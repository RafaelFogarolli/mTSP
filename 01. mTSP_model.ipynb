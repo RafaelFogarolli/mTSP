{
 "cells": [
  {
   "cell_type": "markdown",
   "metadata": {},
   "source": [
    "### Maximize Profit"
   ]
  },
  {
   "cell_type": "code",
   "execution_count": 1,
   "metadata": {},
   "outputs": [],
   "source": [
    "# Importing Modules\n",
    "\n",
    "from pyomo.environ import *\n",
    "import pandas as pd\n",
    "\n",
    "import random\n",
    "\n",
    "import matplotlib.pyplot as plt\n",
    "import seaborn as sns\n",
    "\n",
    "pd.set_option(\"display.max_rows\", 99)\n",
    "pd.set_option(\"display.max_columns\", 99)\n",
    "random.seed(0)"
   ]
  },
  {
   "attachments": {},
   "cell_type": "markdown",
   "metadata": {},
   "source": [
    "#### Parameters\n",
    "\n",
    "<!-- \n",
    "\n",
    "---------------------------------------------------------------------------------------------------------------------------\n",
    "\n",
    "df['Customers'] = ['C0', 'C1', 'C2', 'C3', 'C4', 'C5', 'C6', 'C7', 'C8', 'C9', 'C10', 'C11',]\n",
    "df['Log'] = [0, 0, 0, 0, 1, 1, 1, 1, 2, 2, 2, 2]\n",
    "df['Lat'] = [0, 1, 2, 3, 0, 1, 2, 3, 0, 1, 2, 3,]\n",
    "\n",
    "---------------------------------------------------------------------------------------------------------------------------\n",
    "  \n",
    "df['Customers'] = ['C0', 'C1', 'C2', 'C3', 'C4', 'C5']\n",
    "df['Log'] = [0, 1, 1, -1, -1, 0]\n",
    "df['Lat'] = [0, 1, 2, 2, 1, 3]\n",
    "\n",
    "\n",
    "-->"
   ]
  },
  {
   "cell_type": "code",
   "execution_count": 5,
   "metadata": {},
   "outputs": [],
   "source": [
    "# Number of Customers \n",
    "total_customers = 30\n",
    "\n",
    "# Number of Sellers / Trucks\n",
    "total_sellers = 3\n",
    "\n",
    "# Seller capacity\n",
    "sellers_capacity = 28800 # s (8h/day)\n",
    "\n",
    "# Truck capacity\n",
    "truck_capacity = 60 # unit (High Pressure Cylinders)\n",
    "\n",
    "# Truck Speed\n",
    "velocity = 13.9 # m/s (Normal speed of a Truck (50 km/h))\n",
    "\n",
    "# Dutarion Service\n",
    "change_duration = 300 # 5 minutes on average to change a cylinder\n",
    "service_duration = 300 # 5 minutes per stop\n",
    "\n",
    "# ID Source\n",
    "warehouse = 0\n",
    " \n",
    "# the bigM\n",
    "bigM = total_customers + 1\n",
    "\n",
    "# Bidirectional Graph: G(V,A)\n",
    "# (C[i], C[j]) : Cost\n",
    "\n",
    "X, Y  = 2600, 2600\n",
    "\n",
    "cols = ['Customers', 'Log', 'Lat', 'Cyn', 'Val']\n",
    "df = pd.DataFrame(columns = cols)\n",
    "df.loc[0, cols] = ['Warehouse', 0, 0, 0, 0]\n",
    "\n",
    "for c in range(total_customers):\n",
    "\n",
    "    ind = c + 1    \n",
    "    df.loc[ind, 'Customers'] = f'C{c}'\n",
    "    df.loc[ind, 'Log'] = 0 + X * random.random()\n",
    "    df.loc[ind, 'Lat'] = 0 + Y * random.random()\n",
    "    df.loc[ind, 'Cyn'] = random.choice(range(1, 10))\n",
    "    df.loc[ind, 'Val'] = random.choice(range(80, 1500)) * df.loc[ind, 'Cyn']\n",
    "\n",
    "\n",
    "\n",
    "\n",
    "# Calculate the euclidian distance between each point on the map\n",
    "cost = {}\n",
    "for i in df.index:\n",
    "    for j in df.index:\n",
    "\n",
    "        x = df.loc[i, 'Log'] - df.loc[j, 'Log']\n",
    "        y = df.loc[i, 'Lat'] - df.loc[j, 'Lat']\n",
    "        cost[(i, j)] = (x**2 + y**2)**(0.5)\n",
    "\n"
   ]
  },
  {
   "attachments": {},
   "cell_type": "markdown",
   "metadata": {},
   "source": [
    "### mTSP Model\n"
   ]
  },
  {
   "cell_type": "code",
   "execution_count": null,
   "metadata": {},
   "outputs": [],
   "source": [
    "# Creating the Model\n",
    "model = ConcreteModel()\n",
    "\n",
    "# Creating the Sets\n",
    "model.Customers = RangeSet(0, total_customers) # Set of Clients\n",
    "model.Sellers = RangeSet(1, total_sellers) # Set of Sallers\n",
    "\n",
    "# Creating Variables\n",
    "    \n",
    "# a[c, s] = 1, if customer c is served by salesman s\n",
    "model.a = Var(  model.Customers, \n",
    "                model.Sellers,\n",
    "                within = Binary,\n",
    "                initialize = 0 \n",
    "            )\n",
    "\n",
    "# u[i] = node potentials, \n",
    "model.u = Var(  model.Customers, \n",
    "                within = NonNegativeIntegers,\n",
    "            )\n",
    "\n",
    "# x[i, j, s] = 1, if the saller s went from customer i to customer j\n",
    "model.x = Var(  model.Customers, \n",
    "                model.Customers, \n",
    "                model.Sellers,\n",
    "                within = Binary,\n",
    "                initialize = 0\n",
    "            )\n",
    "\n",
    "# time[s] = time worked\n",
    "model.time = Var(   model.Sellers,\n",
    "                    within = NonNegativeReals,\n",
    "                    initialize = 0)\n",
    "\n",
    "# Objective Function : Maximize Sales Profit\n",
    "def profit_objective(model):\n",
    "\n",
    "    profit = sum(   model.a[i, s] * df.loc[i, 'Val']\n",
    "                    for i in model.Customers \n",
    "                    for s in model.Sellers\n",
    "            )\n",
    "    \n",
    "    return profit \n",
    "\n",
    "\n",
    "model.objective = Objective(    rule = profit_objective, \n",
    "                                sense = maximize\n",
    "                            )"
   ]
  },
  {
   "attachments": {},
   "cell_type": "markdown",
   "metadata": {},
   "source": [
    "#### Constraints"
   ]
  },
  {
   "cell_type": "code",
   "execution_count": null,
   "metadata": {},
   "outputs": [],
   "source": [
    "def constraint_time(model, s):\n",
    "    \"\"\"\n",
    "    Defines a time variable for a seller in an optimization model.\n",
    "    \"\"\"\n",
    "\n",
    "   \n",
    "    service_time = (    sum( model.a[i, s] * df.loc[i, 'Cyn'] * change_duration + model.a[i, s] * service_duration\n",
    "                        for i in model.Customers if i != warehouse) ) \n",
    "    \n",
    "    walk_time = sum(    model.x[i, j, s] * cost[i,j] / velocity \n",
    "                        for i in model.Customers \n",
    "                        for j in model.Customers)\n",
    "\n",
    "    return model.time[s] == service_time + walk_time\n",
    "\n",
    "model.C0 = Constraint(  model.Sellers, \n",
    "                        rule = constraint_time\n",
    "                    )"
   ]
  },
  {
   "cell_type": "code",
   "execution_count": null,
   "metadata": {},
   "outputs": [],
   "source": [
    "def constraint_truck_capacity(model, s):\n",
    "    \"\"\"\n",
    "    The truck cannor carry more than its capacity.\n",
    "    \"\"\"\n",
    "    \n",
    "    return sum(model.a[i, s] * df.loc[i, 'Cyn'] for i in model.Customers) <= truck_capacity\n",
    "     \n",
    "model.C1 = Constraint(  model.Sellers, \n",
    "                        rule = constraint_truck_capacity\n",
    "                    )"
   ]
  },
  {
   "cell_type": "code",
   "execution_count": null,
   "metadata": {},
   "outputs": [],
   "source": [
    "def constraint_sellers_capacity(model, s):\n",
    "    ''' \n",
    "    The seller cannot serve more than his capacity.\n",
    "    Each seller has a time capacity to serve customers.\n",
    "    The seller spends an average of 300s (5m) per cylinder change for each customer, \n",
    "    in addition to 600s (10m) for customer service.\n",
    "    And it moves at an average of 13.9 m/s.\n",
    "    '''\n",
    "\n",
    "\n",
    "\n",
    "    return model.time[s] <= sellers_capacity\n",
    "\n",
    "model.C2 = Constraint(  model.Sellers, \n",
    "                        rule = constraint_sellers_capacity\n",
    "                    )"
   ]
  },
  {
   "cell_type": "code",
   "execution_count": null,
   "metadata": {},
   "outputs": [],
   "source": [
    "def constraint_visitation(model, i):\n",
    "    '''\n",
    "    Constraint function that enforces that each customer is assigned to at most one seller.\n",
    "    '''\n",
    "    if i != warehouse:\n",
    "        return sum(model.a[i, s] for s in model.Sellers) <= 1\n",
    "    else:\n",
    "        return Constraint.Skip\n",
    "\n",
    "model.C3 = Constraint(  model.Customers,\n",
    "                        rule = constraint_visitation  )"
   ]
  },
  {
   "cell_type": "code",
   "execution_count": null,
   "metadata": {},
   "outputs": [],
   "source": [
    "def constraint_sellers_out(model, s):\n",
    "    ''' \n",
    "    Ensures that each seller (s) has an outbound sub route from the warehouse.\n",
    "    '''\n",
    "    return sum( model.x[warehouse, j, s] \n",
    "                for j in model.Customers if (cost[warehouse, j] > 0)) == 1\n",
    "\n",
    "model.C4 = Constraint(  model.Sellers, \n",
    "                        rule = constraint_sellers_out)"
   ]
  },
  {
   "cell_type": "code",
   "execution_count": null,
   "metadata": {},
   "outputs": [],
   "source": [
    "def constraint_sellers_in(model, s):\n",
    "    '''\n",
    "    Ensures that each seller (s) has an warehouse entry sub route.\n",
    "    '''\n",
    "\n",
    "    return sum( model.x[j, warehouse, s]    \n",
    "                for j in model.Customers if (cost[j, warehouse] > 0)) == 1\n",
    "\n",
    "model.C5 = Constraint(  model.Sellers, \n",
    "                        rule = constraint_sellers_in)"
   ]
  },
  {
   "cell_type": "code",
   "execution_count": null,
   "metadata": {},
   "outputs": [],
   "source": [
    "def constraint_customer_visited(model, i, s):\n",
    "    '''\n",
    "    To server the customer, you have to go through him.\n",
    "    x[j, i, s] must be greater than or equal to a[i,s].\n",
    "    If a[i,s] == 1, it means that the customer was served. \n",
    "    Therefore, the customer needs to have been visites previously. \n",
    "    '''\n",
    "\n",
    "    return sum( model.x[j, i, s] \n",
    "                for j in model.Customers  if (i != j) & (cost[j, i] > 0)) == model.a[i,s] \n",
    "\n",
    "model.C6 = Constraint(  model.Customers, \n",
    "                        model.Sellers, \n",
    "                        rule = constraint_customer_visited)"
   ]
  },
  {
   "cell_type": "code",
   "execution_count": null,
   "metadata": {},
   "outputs": [],
   "source": [
    "def constraint_flow(model, j, s):\n",
    "    ''' \n",
    "    Flow Conservation Restriction.\n",
    "    '''\n",
    "    \n",
    "    return  sum(    model.x[i, j, s] \n",
    "                    for i in model.Customers if (i!=j) & (cost[i,j] > 0)) - \\\n",
    "            sum(    model.x[j, i, s] \n",
    "                    for i in model.Customers if (i!=j) & (cost[j,i] > 0)) == 0\n",
    "\n",
    "model.C7 = Constraint(  model.Customers, \n",
    "                        model.Sellers, \n",
    "                        rule = constraint_flow)"
   ]
  },
  {
   "cell_type": "code",
   "execution_count": null,
   "metadata": {},
   "outputs": [],
   "source": [
    "def constraint_MTZ(model, i, j):\n",
    "    '''\n",
    "    Applies the Miller-Tucker-Zemlin (MTZ) constraint to the route between cities i and j.\n",
    "    '''\n",
    "\n",
    "    if (i != j) & (j > warehouse) & (i > warehouse):\n",
    "        return model.u[i] - model.u[j] + bigM * sum(model.x[i,j,s] \n",
    "                                                    for s in model.Sellers) <= bigM - 1\n",
    "    else:\n",
    "        return Constraint.Skip\n",
    "\n",
    "model.C8 = Constraint(  model.Customers, \n",
    "                        model.Customers, \n",
    "                        rule = constraint_MTZ)"
   ]
  },
  {
   "attachments": {},
   "cell_type": "markdown",
   "metadata": {},
   "source": [
    "#### Execução"
   ]
  },
  {
   "cell_type": "code",
   "execution_count": null,
   "metadata": {},
   "outputs": [],
   "source": [
    "# Selecting and Creating the Solver\n",
    "# ----------------------------\n",
    "solver = SolverFactory('cplex')\n",
    "#solver.options['timelimit'] = 30\n",
    "\n",
    "# Calling the solver and solving the model\n",
    "# ----------------------------\n",
    "\n",
    "results = solver.solve( model, \n",
    "                        #tee = True, \n",
    "                        #keepfiles = True, \n",
    "                    )\n",
    "\n",
    "print(f'FO value: {value(model.objective)}')"
   ]
  },
  {
   "cell_type": "markdown",
   "metadata": {},
   "source": [
    "#### Plot do Resultado"
   ]
  },
  {
   "cell_type": "code",
   "execution_count": null,
   "metadata": {},
   "outputs": [],
   "source": [
    "fig, ax = plt.subplots( nrows = 1,  \n",
    "                        ncols = 1, \n",
    "                        figsize = (10,7),  \n",
    "                        dpi = 110         )\n",
    "\n",
    "sns.scatterplot(    data = df, x = \"Log\", y = \"Lat\", s = 40, linewidth = 0, color = '#111111' , ax = ax   )  \n",
    "\n",
    "for i in df.index:\n",
    "    ax.text( df.loc[i,'Log'], df.loc[i,'Lat'], str(df.loc[i, 'Customers']), color = 'black' , fontsize = 11    )\n",
    "\n",
    "\n",
    "colors = ['blue', 'red', 'green', 'yellow']\n",
    "for s in range(1, total_sellers + 1):\n",
    "    for c1 in range(total_customers + 1):\n",
    "        for c2 in range(total_customers + 1):\n",
    "            if (value(model.x[c1, c2, s]) == 1):\n",
    "                \n",
    "                plt.arrow(   df.loc[c1, 'Log'], \n",
    "                                    df.loc[c1, 'Lat'], \n",
    "                                    df.loc[c2, 'Log'] - df.loc[c1, 'Log'],\n",
    "                                    df.loc[c2, 'Lat'] - df.loc[c1, 'Lat'], \n",
    "                                    head_width = 0.1, \n",
    "                                    head_length = 0.1, \n",
    "                                    fc = 'white', \n",
    "                                    ec = colors[s],\n",
    "                                    )\n",
    "\n",
    "\n",
    "ax.set_title(   'Routes', color = '#646369', loc = 'left', pad = 15, fontsize = 13, weight = 'bold')\n",
    "ax.tick_params( axis = 'both', colors = '#646369', labelsize = 10 )         \n",
    "\n",
    "ax.spines['right'].set_visible(False)      \n",
    "ax.spines['top'].set_visible(False)         \n",
    "\n",
    "\n",
    "ax.spines['bottom'].set_color('#646369')       \n",
    "ax.spines['left'].set_color('#646369')        \n",
    "\n",
    "\n",
    "ax.set_xlabel(  'Longitude', color = '#646369', fontsize = 10, position = (0, 0), horizontalalignment = 'left' )\n",
    "ax.set_ylabel(  'Latitude', color = '#646369', fontsize = 10, position = (0,1), horizontalalignment = 'right' )"
   ]
  },
  {
   "cell_type": "code",
   "execution_count": null,
   "metadata": {},
   "outputs": [],
   "source": []
  }
 ],
 "metadata": {
  "kernelspec": {
   "display_name": ".ga-router",
   "language": "python",
   "name": "python3"
  },
  "language_info": {
   "codemirror_mode": {
    "name": "ipython",
    "version": 3
   },
   "file_extension": ".py",
   "mimetype": "text/x-python",
   "name": "python",
   "nbconvert_exporter": "python",
   "pygments_lexer": "ipython3",
   "version": "3.11.6"
  },
  "orig_nbformat": 4,
  "vscode": {
   "interpreter": {
    "hash": "6ea73f2fcc6a6597cc6376316192229ccec0a6cae78940cb865233cc605f1a00"
   }
  }
 },
 "nbformat": 4,
 "nbformat_minor": 2
}
