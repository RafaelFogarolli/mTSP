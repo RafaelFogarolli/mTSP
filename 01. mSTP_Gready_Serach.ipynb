{
 "cells": [
  {
   "cell_type": "code",
   "execution_count": 1,
   "metadata": {},
   "outputs": [],
   "source": [
    "# Libraries\n",
    "import pandas as pd\n",
    "import random"
   ]
  },
  {
   "cell_type": "markdown",
   "metadata": {},
   "source": [
    "#### Functions"
   ]
  },
  {
   "cell_type": "code",
   "execution_count": 2,
   "metadata": {},
   "outputs": [],
   "source": [
    "def menor_distancia(nao_visitados, distancias, origem):\n",
    "    \"\"\"\n",
    "    \"\"\"\n",
    "\n",
    "    max_distance = max(distancias.values()) * 2\n",
    "\n",
    "    for nv in nao_visitados:\n",
    "        if distancias[(origem, nv)] < max_distance:\n",
    "            max_distance = distancias[(origem, nv)]\n",
    "            proximo = nv\n",
    "\n",
    "    return proximo   "
   ]
  },
  {
   "cell_type": "markdown",
   "metadata": {},
   "source": [
    "#### Parameters\n",
    "\n",
    "<!-- \n",
    "\n",
    "---------------------------------------------------------------------------------------------------------------------------\n",
    "\n",
    "df['Customers'] = ['C0', 'C1', 'C2', 'C3', 'C4', 'C5', 'C6', 'C7', 'C8', 'C9', 'C10', 'C11',]\n",
    "df['Log'] = [0, 0, 0, 0, 1, 1, 1, 1, 2, 2, 2, 2]\n",
    "df['Lat'] = [0, 1, 2, 3, 0, 1, 2, 3, 0, 1, 2, 3,]\n",
    "\n",
    "---------------------------------------------------------------------------------------------------------------------------\n",
    "  \n",
    "df['Customers'] = ['C0', 'C1', 'C2', 'C3', 'C4', 'C5']\n",
    "df['Log'] = [0, 1, 1, -1, -1, 0]\n",
    "df['Lat'] = [0, 1, 2, 2, 1, 3]\n",
    "\n",
    "\n",
    "-->"
   ]
  },
  {
   "cell_type": "code",
   "execution_count": 10,
   "metadata": {},
   "outputs": [],
   "source": [
    "# Number of Customers \n",
    "total_customers = 50\n",
    "\n",
    "# Number of Sellers / Trucks\n",
    "total_sellers = 1\n",
    "\n",
    "# Seller capacity\n",
    "sellers_capacity = 28800 # s (8h/day)\n",
    "\n",
    "# Truck capacity\n",
    "truck_capacity = 60 # unit (High Pressure Cylinders)\n",
    "\n",
    "# Truck Speed\n",
    "velocity = 13.9 # m/s (Normal speed of a Truck (50 km/h))\n",
    "\n",
    "# Dutarion Service\n",
    "change_duration = 300 # 5 minutes on average to change a cylinder\n",
    "service_duration = 600 # 5 minutes per stop\n",
    "\n",
    "# ID Source\n",
    "warehouse = 0\n",
    " \n",
    "# the bigM\n",
    "bigM = total_customers + 1\n",
    "\n",
    "# Bidirectional Graph: G(V,A)\n",
    "# (C[i], C[j]) : Cost\n",
    "\n",
    "df = pd.DataFrame()\n",
    "\n",
    "# C0 = Warehouse\n",
    "customers = ['C0']\n",
    "long = [0]\n",
    "lat = [0]\n",
    "cyn = [0]\n",
    "val = [0]\n",
    "\n",
    "X, Y  = 2600, 2600\n",
    "# Generate values randomly to create the scenario\n",
    "for c in range(1, total_customers+1):\n",
    "    customers.append(f'C{c}')\n",
    "    long.append(0 + X * random.random())\n",
    "    lat.append(0 + Y * random.random())\n",
    "    cyn.append( random.choice(range(1, 10)) )\n",
    "    val.append( random.choice(range(80, 1500)) * cyn[-1])\n",
    "\n",
    "df['Customers'] = customers\n",
    "df['Log'] = long\n",
    "df['Lat'] = lat  \n",
    "df['Cyn'] = cyn\n",
    "df['Val'] = val\n",
    "\n",
    "\n",
    "# Calculate the euclidian distance between each point on the map\n",
    "cost = {}\n",
    "for i in df.index:\n",
    "    for j in df.index:\n",
    "\n",
    "        x = df.loc[i, 'Log'] - df.loc[j, 'Log']\n",
    "        y = df.loc[i, 'Lat'] - df.loc[j, 'Lat']\n",
    "        cost[(i, j)] = (x**2 + y**2)**(0.5)\n",
    "\n"
   ]
  },
  {
   "cell_type": "markdown",
   "metadata": {},
   "source": [
    "#### Gready Search"
   ]
  },
  {
   "cell_type": "code",
   "execution_count": 19,
   "metadata": {},
   "outputs": [],
   "source": [
    "nao_visitados = list(range(1, total_customers+1))\n",
    "resultados = {}\n",
    "\n",
    "for ts in range(total_sellers):\n",
    "    \n",
    "    truck, seller = 0, 0\n",
    "    rota, profit = [0], 0\n",
    "    temp = True\n",
    "        \n",
    "    while temp:\n",
    "\n",
    "        if (len(nao_visitados) != 0):\n",
    "            \n",
    "            next_node = menor_distancia(nao_visitados, cost, rota[-1])\n",
    "            truck_aux = truck + df.loc[next_node, 'Cyn']\n",
    "            seller_aux = seller + (cost[(rota[-1], next_node)] / velocity) + (change_duration * df.loc[next_node, 'Cyn']) + service_duration + (cost[(next_node, 0)] / velocity)\n",
    "\n",
    "            if (seller_aux <= sellers_capacity) & (truck_aux <= truck_capacity):\n",
    "\n",
    "                nao_visitados.remove(next_node)\n",
    "                rota.append(next_node)\n",
    "                seller += (cost[(rota[-1], next_node)] / velocity) + change_duration + service_duration\n",
    "                truck += df.loc[next_node, 'Cyn']\n",
    "                profit += df.loc[next_node, 'Val']\n",
    "\n",
    "            else:\n",
    "                seller += (cost[(rota[-1], 0)] / velocity)\n",
    "                temp = False\n",
    "        else:\n",
    "            temp = False\n",
    "            \n",
    "    resultados[ts] = {\n",
    "                        'Rotas' : rota,\n",
    "                        'Lucro' : profit,\n",
    "                        'Carga' : truck,\n",
    "                        'Tempo' : seller,\n",
    "    }"
   ]
  },
  {
   "cell_type": "code",
   "execution_count": null,
   "metadata": {},
   "outputs": [],
   "source": []
  },
  {
   "cell_type": "code",
   "execution_count": null,
   "metadata": {},
   "outputs": [],
   "source": []
  },
  {
   "cell_type": "code",
   "execution_count": null,
   "metadata": {},
   "outputs": [],
   "source": []
  },
  {
   "cell_type": "code",
   "execution_count": null,
   "metadata": {},
   "outputs": [],
   "source": []
  },
  {
   "cell_type": "code",
   "execution_count": null,
   "metadata": {},
   "outputs": [],
   "source": []
  },
  {
   "cell_type": "code",
   "execution_count": null,
   "metadata": {},
   "outputs": [],
   "source": []
  },
  {
   "cell_type": "code",
   "execution_count": null,
   "metadata": {},
   "outputs": [],
   "source": []
  }
 ],
 "metadata": {
  "kernelspec": {
   "display_name": ".ga-router",
   "language": "python",
   "name": "python3"
  },
  "language_info": {
   "codemirror_mode": {
    "name": "ipython",
    "version": 3
   },
   "file_extension": ".py",
   "mimetype": "text/x-python",
   "name": "python",
   "nbconvert_exporter": "python",
   "pygments_lexer": "ipython3",
   "version": "3.11.6"
  },
  "orig_nbformat": 4,
  "vscode": {
   "interpreter": {
    "hash": "6ea73f2fcc6a6597cc6376316192229ccec0a6cae78940cb865233cc605f1a00"
   }
  }
 },
 "nbformat": 4,
 "nbformat_minor": 2
}
